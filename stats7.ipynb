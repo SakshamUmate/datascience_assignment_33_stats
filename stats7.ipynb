{
 "cells": [
  {
   "cell_type": "markdown",
   "metadata": {},
   "source": [
    "### Q1. Write a Python function that takes in two arrays of data and calculates the F-value for a variance ratio test. The function should return the F-value and the corresponding p-value for the test."
   ]
  },
  {
   "cell_type": "code",
   "execution_count": 11,
   "metadata": {},
   "outputs": [
    {
     "data": {
      "text/plain": [
       "(1.0, 0.5)"
      ]
     },
     "execution_count": 11,
     "metadata": {},
     "output_type": "execute_result"
    }
   ],
   "source": [
    "import numpy as np\n",
    "from scipy.stats import f\n",
    "\n",
    "def variance_ratio_test(data1, data2):\n",
    "    \"\"\"\n",
    "    Perform a variance ratio test (F-test) on two datasets.\n",
    "    \n",
    "    Parameters:\n",
    "    data1 (array-like): First dataset.\n",
    "    data2 (array-like): Second dataset.\n",
    "    \n",
    "    Returns:\n",
    "    F-value (float): The calculated F-value.\n",
    "    p-value (float): The corresponding p-value for the test.\n",
    "    \"\"\"\n",
    "    # Calculate variances of the two datasets\n",
    "    var1 = np.var(data1, ddof=1)\n",
    "    var2 = np.var(data2, ddof=1)\n",
    "    \n",
    "    # Calculate the F-value\n",
    "    if var1 > var2:\n",
    "        F = var1 / var2\n",
    "        dfn = len(data1) - 1  # degrees of freedom for numerator\n",
    "        dfd = len(data2) - 1  # degrees of freedom for denominator\n",
    "    else:\n",
    "        F = var2 / var1\n",
    "        dfn = len(data2) - 1  # degrees of freedom for numerator\n",
    "        dfd = len(data1) - 1  # degrees of freedom for denominator\n",
    "    \n",
    "    # Calculate the p-value\n",
    "    p_value = 1 - f.cdf(F, dfn, dfd)\n",
    "    \n",
    "    return F, p_value\n",
    "\n",
    "# Example usage:\n",
    "data1 = [12, 14, 16, 18, 20]\n",
    "data2 = [22, 24, 26, 28, 30]\n",
    "F, p_value = variance_ratio_test(data1, data2)\n",
    "F, p_value\n"
   ]
  },
  {
   "cell_type": "markdown",
   "metadata": {},
   "source": [
    "### Explanation\n",
    "- **Variance Calculation:** The variances of the two datasets (var1 and var2) are calculated using np.var with ddof=1 to get the sample variance.\n",
    "- **F-value Calculation:** The F-value is calculated as the ratio of the larger variance to the smaller variance. This ensures that the F-value is always greater than or equal to 1.\n",
    "- **Degrees of Freedom:** The degrees of freedom for the numerator (dfn) and the denominator (dfd) are determined based on which variance is larger.\n",
    "- **p-value Calculation:** The p-value is calculated using the cumulative distribution function (CDF) of the F-distribution (f.cdf). The p-value represents the probability of observing an F-value as extreme as, or more extreme than, the one calculated, under the null hypothesis that the variances are equal.\n",
    "\n",
    "Example Usage\n",
    "\n",
    "The example provided at the end shows how to use the variance_ratio_test function with two sample datasets. The function returns the F-value and the p-value, which can be used to assess the equality of variances."
   ]
  },
  {
   "cell_type": "markdown",
   "metadata": {},
   "source": [
    "### Q2. Given a significance level of 0.05 and the degrees of freedom for the numerator and denominator of an F-distribution, write a Python function that returns the critical F-value for a two-tailed test."
   ]
  },
  {
   "cell_type": "code",
   "execution_count": 12,
   "metadata": {},
   "outputs": [
    {
     "data": {
      "text/plain": [
       "(0.15107670102998208, 4.236085668188633)"
      ]
     },
     "execution_count": 12,
     "metadata": {},
     "output_type": "execute_result"
    }
   ],
   "source": [
    "from scipy.stats import f\n",
    "\n",
    "def critical_f_value(alpha, dfn, dfd):\n",
    "    \"\"\"\n",
    "    Calculate the critical F-value for a two-tailed test.\n",
    "\n",
    "    Parameters:\n",
    "    alpha (float): Significance level (e.g., 0.05 for a 5% significance level).\n",
    "    dfn (int): Degrees of freedom for the numerator.\n",
    "    dfd (int): Degrees of freedom for the denominator.\n",
    "\n",
    "    Returns:\n",
    "    critical_value (float): The critical F-value for the two-tailed test.\n",
    "    \"\"\"\n",
    "    # For a two-tailed test, we need to split the significance level in half for each tail\n",
    "    alpha_half = alpha / 2\n",
    "\n",
    "    # Calculate the critical F-values for each tail\n",
    "    f_critical_low = f.ppf(alpha_half, dfn, dfd)\n",
    "    f_critical_high = f.ppf(1 - alpha_half, dfn, dfd)\n",
    "\n",
    "    return f_critical_low, f_critical_high\n",
    "\n",
    "# Example usage:\n",
    "alpha = 0.05\n",
    "dfn = 5  # degrees of freedom for numerator\n",
    "dfd = 10  # degrees of freedom for denominator\n",
    "critical_values = critical_f_value(alpha, dfn, dfd)\n",
    "critical_values\n"
   ]
  },
  {
   "cell_type": "markdown",
   "metadata": {},
   "source": [
    "### Q3. Write a Python program that generates random samples from two normal distributions with known variances and uses an F-test to determine if the variances are equal. The program should output the F-value, degrees of freedom, and p-value for the test."
   ]
  },
  {
   "cell_type": "markdown",
   "metadata": {},
   "source": [
    "# F-test for Equality of Variances\n",
    "\n",
    "This Python program generates random samples from two normal distributions with known variances and uses an F-test to determine if the variances are equal. The program outputs the F-value, degrees of freedom, and p-value for the test.\n",
    "\n"
   ]
  },
  {
   "cell_type": "code",
   "execution_count": 13,
   "metadata": {},
   "outputs": [
    {
     "name": "stdout",
     "output_type": "stream",
     "text": [
      "F-value: 1.431410609701287\n",
      "Degrees of freedom (numerator): 29\n",
      "Degrees of freedom (denominator): 29\n",
      "p-value: 0.16981167196351632\n"
     ]
    }
   ],
   "source": [
    "\n",
    "import numpy as np\n",
    "from scipy.stats import f\n",
    "\n",
    "def generate_samples(mean1, var1, n1, mean2, var2, n2):\n",
    "    \"\"\"\n",
    "    Generate random samples from two normal distributions.\n",
    "    \n",
    "    Parameters:\n",
    "    mean1 (float): Mean of the first distribution.\n",
    "    var1 (float): Variance of the first distribution.\n",
    "    n1 (int): Number of samples from the first distribution.\n",
    "    mean2 (float): Mean of the second distribution.\n",
    "    var2 (float): Variance of the second distribution.\n",
    "    n2 (int): Number of samples from the second distribution.\n",
    "    \n",
    "    Returns:\n",
    "    data1 (array): Random samples from the first distribution.\n",
    "    data2 (array): Random samples from the second distribution.\n",
    "    \"\"\"\n",
    "    data1 = np.random.normal(mean1, np.sqrt(var1), n1)\n",
    "    data2 = np.random.normal(mean2, np.sqrt(var2), n2)\n",
    "    \n",
    "    return data1, data2\n",
    "\n",
    "def variance_ratio_test(data1, data2):\n",
    "    \"\"\"\n",
    "    Perform a variance ratio test (F-test) on two datasets.\n",
    "    \n",
    "    Parameters:\n",
    "    data1 (array-like): First dataset.\n",
    "    data2 (array-like): Second dataset.\n",
    "    \n",
    "    Returns:\n",
    "    F-value (float): The calculated F-value.\n",
    "    p-value (float): The corresponding p-value for the test.\n",
    "    dfn (int): Degrees of freedom for the numerator.\n",
    "    dfd (int): Degrees of freedom for the denominator.\n",
    "    \"\"\"\n",
    "    # Calculate variances of the two datasets\n",
    "    var1 = np.var(data1, ddof=1)\n",
    "    var2 = np.var(data2, ddof=1)\n",
    "    \n",
    "    # Calculate the F-value\n",
    "    if var1 > var2:\n",
    "        F = var1 / var2\n",
    "        dfn = len(data1) - 1  # degrees of freedom for numerator\n",
    "        dfd = len(data2) - 1  # degrees of freedom for denominator\n",
    "    else:\n",
    "        F = var2 / var1\n",
    "        dfn = len(data2) - 1  # degrees of freedom for numerator\n",
    "        dfd = len(data1) - 1  # degrees of freedom for denominator\n",
    "    \n",
    "    # Calculate the p-value\n",
    "    p_value = 1 - f.cdf(F, dfn, dfd)\n",
    "    \n",
    "    return F, p_value, dfn, dfd\n",
    "\n",
    "# Parameters for the normal distributions\n",
    "mean1 = 0\n",
    "var1 = 1\n",
    "n1 = 30\n",
    "\n",
    "mean2 = 0\n",
    "var2 = 2\n",
    "n2 = 30\n",
    "\n",
    "# Generate random samples\n",
    "data1, data2 = generate_samples(mean1, var1, n1, mean2, var2, n2)\n",
    "\n",
    "# Perform the variance ratio test\n",
    "F, p_value, dfn, dfd = variance_ratio_test(data1, data2)\n",
    "\n",
    "# Output the results\n",
    "print(f\"F-value: {F}\")\n",
    "print(f\"Degrees of freedom (numerator): {dfn}\")\n",
    "print(f\"Degrees of freedom (denominator): {dfd}\")\n",
    "print(f\"p-value: {p_value}\")\n"
   ]
  },
  {
   "cell_type": "markdown",
   "metadata": {},
   "source": [
    "### Q4.The variances of two populations are known to be 10 and 15. A sample of 12 observations is taken from each population. Conduct an F-test at the 5% significance level to determine if the variances are significantly different."
   ]
  },
  {
   "cell_type": "markdown",
   "metadata": {},
   "source": [
    "# F-test for Equality of Known Population Variances\n",
    "\n",
    "Given the variances of two populations are known to be 10 and 15, and a sample of 12 observations is taken from each population, we will conduct an F-test at the 5% significance level to determine if the variances are significantly different.\n",
    "\n",
    "## Steps to Conduct the F-test\n",
    "\n",
    "1. **Define the hypotheses**:\n",
    "    - Null hypothesis (\\(H_0\\)): The variances of the two populations are equal (\\(\\sigma_1^2 = \\sigma_2^2\\)).\n",
    "    - Alternative hypothesis (\\(H_1\\)): The variances of the two populations are not equal (\\(\\sigma_1^2 \\neq \\sigma_2^2\\)).\n",
    "\n",
    "2. **Calculate the F-value**:\n",
    "    - \\(F = \\frac{\\text{larger variance}}{\\text{smaller variance}}\\)\n",
    "\n",
    "3. **Determine the critical F-values** for a two-tailed test at the 5% significance level.\n",
    "\n",
    "4. **Compare the calculated F-value** to the critical F-values to decide whether to reject the null hypothesis.\n",
    "\n",
    "```python"
   ]
  },
  {
   "cell_type": "code",
   "execution_count": 14,
   "metadata": {},
   "outputs": [
    {
     "name": "stdout",
     "output_type": "stream",
     "text": [
      "Calculated F-value: 1.5\n",
      "Degrees of freedom (numerator): 11\n",
      "Degrees of freedom (denominator): 11\n",
      "Critical F-value (lower): 0.28787755798459863\n",
      "Critical F-value (upper): 3.473699051085809\n",
      "p-value: 0.25619489936789996\n",
      "Fail to reject the null hypothesis: The variances are not significantly different.\n"
     ]
    }
   ],
   "source": [
    "\n",
    "from scipy.stats import f\n",
    "\n",
    "# Given data\n",
    "var1 = 10\n",
    "var2 = 15\n",
    "n1 = 12\n",
    "n2 = 12\n",
    "alpha = 0.05\n",
    "\n",
    "# Calculate the F-value\n",
    "if var1 > var2:\n",
    "    F = var1 / var2\n",
    "    dfn = n1 - 1  # degrees of freedom for numerator\n",
    "    dfd = n2 - 1  # degrees of freedom for denominator\n",
    "else:\n",
    "    F = var2 / var1\n",
    "    dfn = n2 - 1  # degrees of freedom for numerator\n",
    "    dfd = n1 - 1  # degrees of freedom for denominator\n",
    "\n",
    "# Determine the critical F-values for a two-tailed test\n",
    "alpha_half = alpha / 2\n",
    "f_critical_low = f.ppf(alpha_half, dfn, dfd)\n",
    "f_critical_high = f.ppf(1 - alpha_half, dfn, dfd)\n",
    "\n",
    "# Calculate the p-value\n",
    "p_value = 1 - f.cdf(F, dfn, dfd)\n",
    "\n",
    "# Output the results\n",
    "print(f\"Calculated F-value: {F}\")\n",
    "print(f\"Degrees of freedom (numerator): {dfn}\")\n",
    "print(f\"Degrees of freedom (denominator): {dfd}\")\n",
    "print(f\"Critical F-value (lower): {f_critical_low}\")\n",
    "print(f\"Critical F-value (upper): {f_critical_high}\")\n",
    "print(f\"p-value: {p_value}\")\n",
    "\n",
    "# Conclusion\n",
    "if F < f_critical_low or F > f_critical_high:\n",
    "    print(\"Reject the null hypothesis: The variances are significantly different.\")\n",
    "else:\n",
    "    print(\"Fail to reject the null hypothesis: The variances are not significantly different.\")\n"
   ]
  },
  {
   "cell_type": "markdown",
   "metadata": {},
   "source": [
    "### Q5. A manufacturer claims that the variance of the diameter of a certain product is 0.005. A sample of 25 products is taken, and the sample variance is found to be 0.006. Conduct an F-test at the 1% significance level to determine if the claim is justified."
   ]
  },
  {
   "cell_type": "markdown",
   "metadata": {},
   "source": [
    "# F-test for Variance of Product Diameter\n",
    "\n",
    "A manufacturer claims that the variance of the diameter of a certain product is 0.005. A sample of 25 products is taken, and the sample variance is found to be 0.006. We will conduct an F-test at the 1% significance level to determine if the claim is justified.\n",
    "\n",
    "## Steps to Conduct the F-test\n",
    "\n",
    "1. **Define the hypotheses**:\n",
    "    - Null hypothesis (\\(H_0\\)): The variance of the product diameter is 0.005 (\\(\\sigma^2 = 0.005\\)).\n",
    "    - Alternative hypothesis (\\(H_1\\)): The variance of the product diameter is not 0.005 (\\(\\sigma^2 \\neq 0.005\\)).\n",
    "\n",
    "2. **Calculate the F-value**:\n",
    "    - \\(F = \\frac{\\text{sample variance}}{\\text{claimed variance}}\\)\n",
    "\n",
    "3. **Determine the critical F-values** for a two-tailed test at the 1% significance level.\n",
    "\n",
    "4. **Compare the calculated F-value** to the critical F-values to decide whether to reject the null hypothesis.\n",
    "\n"
   ]
  },
  {
   "cell_type": "code",
   "execution_count": 15,
   "metadata": {},
   "outputs": [
    {
     "name": "stdout",
     "output_type": "stream",
     "text": [
      "Calculated F-value: 1.2\n",
      "Degrees of freedom: 24\n",
      "Critical F-value (lower): nan\n",
      "Critical F-value (upper): nan\n",
      "p-value: 0.0\n",
      "Fail to reject the null hypothesis: The variance is not significantly different from 0.005.\n"
     ]
    }
   ],
   "source": [
    "\n",
    "from scipy.stats import f\n",
    "\n",
    "# Given data\n",
    "claimed_variance = 0.005\n",
    "sample_variance = 0.006\n",
    "n = 25\n",
    "alpha = 0.01\n",
    "\n",
    "# Calculate the F-value\n",
    "F = sample_variance / claimed_variance\n",
    "dfn = n - 1  # degrees of freedom for the sample\n",
    "\n",
    "# Determine the critical F-values for a two-tailed test\n",
    "alpha_half = alpha / 2\n",
    "f_critical_low = f.ppf(alpha_half, dfn, float('inf'))\n",
    "f_critical_high = f.ppf(1 - alpha_half, dfn, float('inf'))\n",
    "\n",
    "# Calculate the p-value\n",
    "p_value = 2 * min(f.cdf(F, dfn, float('inf')), 1 - f.cdf(F, dfn, float('inf')))\n",
    "\n",
    "# Output the results\n",
    "print(f\"Calculated F-value: {F}\")\n",
    "print(f\"Degrees of freedom: {dfn}\")\n",
    "print(f\"Critical F-value (lower): {f_critical_low}\")\n",
    "print(f\"Critical F-value (upper): {f_critical_high}\")\n",
    "print(f\"p-value: {p_value}\")\n",
    "\n",
    "# Conclusion\n",
    "if F < f_critical_low or F > f_critical_high:\n",
    "    print(\"Reject the null hypothesis: The variance is significantly different from 0.005.\")\n",
    "else:\n",
    "    print(\"Fail to reject the null hypothesis: The variance is not significantly different from 0.005.\")\n"
   ]
  },
  {
   "cell_type": "markdown",
   "metadata": {},
   "source": [
    "### Q6. Write a Python function that takes in the degrees of freedom for the numerator and denominator of an F-distribution and calculates the mean and variance of the distribution. The function should return the mean and variance as a tuple."
   ]
  },
  {
   "cell_type": "markdown",
   "metadata": {},
   "source": [
    "# Mean and Variance of an F-Distribution\n",
    "\n",
    "This Python function calculates the mean and variance of an F-distribution given the degrees of freedom for the numerator and denominator.\n",
    "\n",
    "## Formulas\n",
    "\n",
    "For an F-distribution with degrees of freedom \\(d_1\\) (numerator) and \\(d_2\\) (denominator):\n",
    "- The mean is defined as \\( \\mu = \\frac{d_2}{d_2 - 2} \\) for \\(d_2 > 2\\).\n",
    "- The variance is defined as \\( \\sigma^2 = \\frac{2d_2^2(d_1 + d_2 - 2)}{d_1(d_2 - 2)^2(d_2 - 4)} \\) for \\(d_2 > 4\\).\n",
    "\n"
   ]
  },
  {
   "cell_type": "code",
   "execution_count": 16,
   "metadata": {},
   "outputs": [
    {
     "data": {
      "text/plain": [
       "(1.25, 1.3541666666666667)"
      ]
     },
     "execution_count": 16,
     "metadata": {},
     "output_type": "execute_result"
    }
   ],
   "source": [
    "\n",
    "def f_distribution_mean_variance(dfn, dfd):\n",
    "    \"\"\"\n",
    "    Calculate the mean and variance of an F-distribution.\n",
    "\n",
    "    Parameters:\n",
    "    dfn (int): Degrees of freedom for the numerator.\n",
    "    dfd (int): Degrees of freedom for the denominator.\n",
    "\n",
    "    Returns:\n",
    "    tuple: (mean, variance) of the F-distribution.\n",
    "    \"\"\"\n",
    "    if dfd <= 2:\n",
    "        mean = float('inf')  # Mean is not defined for dfd <= 2\n",
    "    else:\n",
    "        mean = dfd / (dfd - 2)\n",
    "\n",
    "    if dfd <= 4:\n",
    "        variance = float('inf')  # Variance is not defined for dfd <= 4\n",
    "    else:\n",
    "        variance = (2 * dfd**2 * (dfn + dfd - 2)) / (dfn * (dfd - 2)**2 * (dfd - 4))\n",
    "\n",
    "    return mean, variance\n",
    "\n",
    "# Example usage:\n",
    "dfn = 5  # degrees of freedom for numerator\n",
    "dfd = 10  # degrees of freedom for denominator\n",
    "mean, variance = f_distribution_mean_variance(dfn, dfd)\n",
    "mean, variance\n"
   ]
  },
  {
   "cell_type": "markdown",
   "metadata": {},
   "source": [
    "### Q7. A random sample of 10 measurements is taken from a normal population with unknown variance. The sample variance is found to be 25. Another random sample of 15 measurements is taken from another normal population with unknown variance, and the sample variance is found to be 20. Conduct an F-test at the 10% significance level to determine if the variances are significantly different."
   ]
  },
  {
   "cell_type": "markdown",
   "metadata": {},
   "source": [
    "# F-test for Equality of Variances from Two Normal Populations\n",
    "\n",
    "A random sample of 10 measurements is taken from a normal population with unknown variance. The sample variance is found to be 25. Another random sample of 15 measurements is taken from another normal population with unknown variance, and the sample variance is found to be 20. We will conduct an F-test at the 10% significance level to determine if the variances are significantly different.\n",
    "\n",
    "## Steps to Conduct the F-test\n",
    "\n",
    "1. **Define the hypotheses**:\n",
    "    - Null hypothesis (\\(H_0\\)): The variances of the two populations are equal (\\(\\sigma_1^2 = \\sigma_2^2\\)).\n",
    "    - Alternative hypothesis (\\(H_1\\)): The variances of the two populations are not equal (\\(\\sigma_1^2 \\neq \\sigma_2^2\\)).\n",
    "\n",
    "2. **Calculate the F-value**:\n",
    "    - \\(F = \\frac{\\text{larger variance}}{\\text{smaller variance}}\\)\n",
    "\n",
    "3. **Determine the critical F-values** for a two-tailed test at the 10% significance level.\n",
    "\n",
    "4. **Compare the calculated F-value** to the critical F-values to decide whether to reject the null hypothesis.\n",
    "\n"
   ]
  },
  {
   "cell_type": "code",
   "execution_count": 17,
   "metadata": {},
   "outputs": [
    {
     "name": "stdout",
     "output_type": "stream",
     "text": [
      "Calculated F-value: 1.25\n",
      "Degrees of freedom (numerator): 9\n",
      "Degrees of freedom (denominator): 14\n",
      "Critical F-value (lower): 0.3305268601412525\n",
      "Critical F-value (upper): 2.6457907352338195\n",
      "p-value: 0.6832194382585952\n",
      "Fail to reject the null hypothesis: The variances are not significantly different.\n"
     ]
    }
   ],
   "source": [
    "\n",
    "from scipy.stats import f\n",
    "\n",
    "# Given data\n",
    "sample_var1 = 25\n",
    "sample_var2 = 20\n",
    "n1 = 10\n",
    "n2 = 15\n",
    "alpha = 0.10\n",
    "\n",
    "# Calculate the F-value\n",
    "if sample_var1 > sample_var2:\n",
    "    F = sample_var1 / sample_var2\n",
    "    dfn = n1 - 1  # degrees of freedom for numerator\n",
    "    dfd = n2 - 1  # degrees of freedom for denominator\n",
    "else:\n",
    "    F = sample_var2 / sample_var1\n",
    "    dfn = n2 - 1  # degrees of freedom for numerator\n",
    "    dfd = n1 - 1  # degrees of freedom for denominator\n",
    "\n",
    "# Determine the critical F-values for a two-tailed test\n",
    "alpha_half = alpha / 2\n",
    "f_critical_low = f.ppf(alpha_half, dfn, dfd)\n",
    "f_critical_high = f.ppf(1 - alpha_half, dfn, dfd)\n",
    "\n",
    "# Calculate the p-value\n",
    "p_value = 2 * min(f.cdf(F, dfn, dfd), 1 - f.cdf(F, dfn, dfd))\n",
    "\n",
    "# Output the results\n",
    "print(f\"Calculated F-value: {F}\")\n",
    "print(f\"Degrees of freedom (numerator): {dfn}\")\n",
    "print(f\"Degrees of freedom (denominator): {dfd}\")\n",
    "print(f\"Critical F-value (lower): {f_critical_low}\")\n",
    "print(f\"Critical F-value (upper): {f_critical_high}\")\n",
    "print(f\"p-value: {p_value}\")\n",
    "\n",
    "# Conclusion\n",
    "if F < f_critical_low or F > f_critical_high:\n",
    "    print(\"Reject the null hypothesis: The variances are significantly different.\")\n",
    "else:\n",
    "    print(\"Fail to reject the null hypothesis: The variances are not significantly different.\")\n"
   ]
  },
  {
   "cell_type": "markdown",
   "metadata": {},
   "source": [
    "### Q8. The following data represent the waiting times in minutes at two different restaurants on a Saturday night: Restaurant A: 24, 25, 28, 23, 22, 20, 27; Restaurant B: 31, 33, 35, 30, 32, 36. Conduct an F-test at the 5% significance level to determine if the variances are significantly different."
   ]
  },
  {
   "cell_type": "markdown",
   "metadata": {},
   "source": [
    "# F-test for Equality of Variances of Waiting Times at Two Restaurants\n",
    "\n",
    "The following data represent the waiting times in minutes at two different restaurants on a Saturday night:\n",
    "- Restaurant A: 24, 25, 28, 23, 22, 20, 27\n",
    "- Restaurant B: 31, 33, 35, 30, 32, 36\n",
    "\n",
    "We will conduct an F-test at the 5% significance level to determine if the variances are significantly different.\n",
    "\n",
    "## Steps to Conduct the F-test\n",
    "\n",
    "1. **Define the hypotheses**:\n",
    "    - Null hypothesis (\\(H_0\\)): The variances of the two populations are equal (\\(\\sigma_1^2 = \\sigma_2^2\\)).\n",
    "    - Alternative hypothesis (\\(H_1\\)): The variances of the two populations are not equal (\\(\\sigma_1^2 \\neq \\sigma_2^2\\)).\n",
    "\n",
    "2. **Calculate the sample variances** for each restaurant.\n",
    "\n",
    "3. **Calculate the F-value**:\n",
    "    - \\(F = \\frac{\\text{larger variance}}{\\text{smaller variance}}\\)\n",
    "\n",
    "4. **Determine the critical F-values** for a two-tailed test at the 5% significance level.\n",
    "\n",
    "5. **Compare the calculated F-value** to the critical F-values to decide whether to reject the null hypothesis.\n",
    "\n"
   ]
  },
  {
   "cell_type": "code",
   "execution_count": 18,
   "metadata": {},
   "outputs": [
    {
     "name": "stdout",
     "output_type": "stream",
     "text": [
      "Sample variance of Restaurant A: 7.80952380952381\n",
      "Sample variance of Restaurant B: 5.366666666666667\n",
      "Calculated F-value: 1.4551907719609583\n",
      "Degrees of freedom (numerator): 6\n",
      "Degrees of freedom (denominator): 5\n",
      "Critical F-value (lower): 0.16701279718024772\n",
      "Critical F-value (upper): 6.977701858535566\n",
      "p-value: 0.6974815747937484\n",
      "Fail to reject the null hypothesis: The variances are not significantly different.\n"
     ]
    }
   ],
   "source": [
    "\n",
    "from scipy.stats import f\n",
    "import numpy as np\n",
    "\n",
    "# Given data\n",
    "restaurant_A = [24, 25, 28, 23, 22, 20, 27]\n",
    "restaurant_B = [31, 33, 35, 30, 32, 36]\n",
    "alpha = 0.05\n",
    "\n",
    "# Calculate the sample variances\n",
    "sample_var_A = np.var(restaurant_A, ddof=1)\n",
    "sample_var_B = np.var(restaurant_B, ddof=1)\n",
    "\n",
    "# Calculate the F-value\n",
    "if sample_var_A > sample_var_B:\n",
    "    F = sample_var_A / sample_var_B\n",
    "    dfn = len(restaurant_A) - 1  # degrees of freedom for numerator\n",
    "    dfd = len(restaurant_B) - 1  # degrees of freedom for denominator\n",
    "else:\n",
    "    F = sample_var_B / sample_var_A\n",
    "    dfn = len(restaurant_B) - 1  # degrees of freedom for numerator\n",
    "    dfd = len(restaurant_A) - 1  # degrees of freedom for denominator\n",
    "\n",
    "# Determine the critical F-values for a two-tailed test\n",
    "alpha_half = alpha / 2\n",
    "f_critical_low = f.ppf(alpha_half, dfn, dfd)\n",
    "f_critical_high = f.ppf(1 - alpha_half, dfn, dfd)\n",
    "\n",
    "# Calculate the p-value\n",
    "p_value = 2 * min(f.cdf(F, dfn, dfd), 1 - f.cdf(F, dfn, dfd))\n",
    "\n",
    "# Output the results\n",
    "print(f\"Sample variance of Restaurant A: {sample_var_A}\")\n",
    "print(f\"Sample variance of Restaurant B: {sample_var_B}\")\n",
    "print(f\"Calculated F-value: {F}\")\n",
    "print(f\"Degrees of freedom (numerator): {dfn}\")\n",
    "print(f\"Degrees of freedom (denominator): {dfd}\")\n",
    "print(f\"Critical F-value (lower): {f_critical_low}\")\n",
    "print(f\"Critical F-value (upper): {f_critical_high}\")\n",
    "print(f\"p-value: {p_value}\")\n",
    "\n",
    "# Conclusion\n",
    "if F < f_critical_low or F > f_critical_high:\n",
    "    print(\"Reject the null hypothesis: The variances are significantly different.\")\n",
    "else:\n",
    "    print(\"Fail to reject the null hypothesis: The variances are not significantly different.\")\n"
   ]
  },
  {
   "cell_type": "markdown",
   "metadata": {},
   "source": [
    "### Q9. The following data represent the test scores of two groups of students: Group A: 80, 85, 90, 92, 87, 83 Group B: 75, 78, 82, 79, 81, 84. Conduct an F-test at the 1% significance level to determine if the variances are significantly different."
   ]
  },
  {
   "cell_type": "markdown",
   "metadata": {},
   "source": [
    "# F-test for Equality of Variances of Test Scores between Two Groups\n",
    "\n",
    "The following data represent the test scores of two groups of students:\n",
    "- Group A: 80, 85, 90, 92, 87, 83\n",
    "- Group B: 75, 78, 82, 79, 81, 84\n",
    "\n",
    "We will conduct an F-test at the 1% significance level to determine if the variances are significantly different.\n",
    "\n",
    "## Steps to Conduct the F-test\n",
    "\n",
    "1. **Define the hypotheses**:\n",
    "    - Null hypothesis (\\(H_0\\)): The variances of the two groups are equal (\\(\\sigma_1^2 = \\sigma_2^2\\)).\n",
    "    - Alternative hypothesis (\\(H_1\\)): The variances of the two groups are not equal (\\(\\sigma_1^2 \\neq \\sigma_2^2\\)).\n",
    "\n",
    "2. **Calculate the sample variances** for each group.\n",
    "\n",
    "3. **Calculate the F-value**:\n",
    "    - \\(F = \\frac{\\text{larger variance}}{\\text{smaller variance}}\\)\n",
    "\n",
    "4. **Determine the critical F-values** for a two-tailed test at the 1% significance level.\n",
    "\n",
    "5. **Compare the calculated F-value** to the critical F-values to decide whether to reject the null hypothesis.\n",
    "\n"
   ]
  },
  {
   "cell_type": "code",
   "execution_count": 19,
   "metadata": {},
   "outputs": [
    {
     "name": "stdout",
     "output_type": "stream",
     "text": [
      "Sample variance of Group A: 19.76666666666667\n",
      "Sample variance of Group B: 10.166666666666666\n",
      "Calculated F-value: 1.9442622950819677\n",
      "Degrees of freedom (numerator): 5\n",
      "Degrees of freedom (denominator): 5\n",
      "Critical F-value (lower): 0.06693617195469603\n",
      "Critical F-value (upper): 14.939605459912219\n",
      "p-value: 0.4831043549070688\n",
      "Fail to reject the null hypothesis: The variances are not significantly different.\n"
     ]
    }
   ],
   "source": [
    "\n",
    "from scipy.stats import f\n",
    "import numpy as np\n",
    "\n",
    "# Given data\n",
    "group_A = [80, 85, 90, 92, 87, 83]\n",
    "group_B = [75, 78, 82, 79, 81, 84]\n",
    "alpha = 0.01\n",
    "\n",
    "# Calculate the sample variances\n",
    "sample_var_A = np.var(group_A, ddof=1)\n",
    "sample_var_B = np.var(group_B, ddof=1)\n",
    "\n",
    "# Calculate the F-value\n",
    "if sample_var_A > sample_var_B:\n",
    "    F = sample_var_A / sample_var_B\n",
    "    dfn = len(group_A) - 1  # degrees of freedom for numerator\n",
    "    dfd = len(group_B) - 1  # degrees of freedom for denominator\n",
    "else:\n",
    "    F = sample_var_B / sample_var_A\n",
    "    dfn = len(group_B) - 1  # degrees of freedom for numerator\n",
    "    dfd = len(group_A) - 1  # degrees of freedom for denominator\n",
    "\n",
    "# Determine the critical F-values for a two-tailed test\n",
    "alpha_half = alpha / 2\n",
    "f_critical_low = f.ppf(alpha_half, dfn, dfd)\n",
    "f_critical_high = f.ppf(1 - alpha_half, dfn, dfd)\n",
    "\n",
    "# Calculate the p-value\n",
    "p_value = 2 * min(f.cdf(F, dfn, dfd), 1 - f.cdf(F, dfn, dfd))\n",
    "\n",
    "# Output the results\n",
    "print(f\"Sample variance of Group A: {sample_var_A}\")\n",
    "print(f\"Sample variance of Group B: {sample_var_B}\")\n",
    "print(f\"Calculated F-value: {F}\")\n",
    "print(f\"Degrees of freedom (numerator): {dfn}\")\n",
    "print(f\"Degrees of freedom (denominator): {dfd}\")\n",
    "print(f\"Critical F-value (lower): {f_critical_low}\")\n",
    "print(f\"Critical F-value (upper): {f_critical_high}\")\n",
    "print(f\"p-value: {p_value}\")\n",
    "\n",
    "# Conclusion\n",
    "if F < f_critical_low or F > f_critical_high:\n",
    "    print(\"Reject the null hypothesis: The variances are significantly different.\")\n",
    "else:\n",
    "    print(\"Fail to reject the null hypothesis: The variances are not significantly different.\")\n"
   ]
  },
  {
   "cell_type": "code",
   "execution_count": null,
   "metadata": {},
   "outputs": [],
   "source": []
  }
 ],
 "metadata": {
  "kernelspec": {
   "display_name": "Python 3",
   "language": "python",
   "name": "python3"
  },
  "language_info": {
   "codemirror_mode": {
    "name": "ipython",
    "version": 3
   },
   "file_extension": ".py",
   "mimetype": "text/x-python",
   "name": "python",
   "nbconvert_exporter": "python",
   "pygments_lexer": "ipython3",
   "version": "3.11.4"
  }
 },
 "nbformat": 4,
 "nbformat_minor": 2
}
